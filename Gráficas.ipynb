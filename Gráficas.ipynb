{
 "cells": [
  {
   "cell_type": "code",
   "execution_count": null,
   "id": "1da41bb7",
   "metadata": {},
   "outputs": [
    {
     "name": "stdout",
     "output_type": "stream",
     "text": [
      "brain (7 fuentes):\n",
      "  Calidad media: 0.974\n",
      "  Calidad mínima: 0.881\n",
      "  Calidad máxima: 0.997\n",
      "  Valores individuales: [0.99668634 0.99623501 0.99433518 0.99256736 0.98809255 0.96816294\n",
      " 0.88118293]\n",
      "muscle: sin fuentes clasificadas\n",
      "eog (1 fuentes):\n",
      "  Calidad media: 0.865\n",
      "  Calidad mínima: 0.865\n",
      "  Calidad máxima: 0.865\n",
      "  Valores individuales: [0.86499417]\n",
      "ecg: sin fuentes clasificadas\n",
      "line_noise: sin fuentes clasificadas\n",
      "ch_noise: sin fuentes clasificadas\n",
      "other: sin fuentes clasificadas\n"
     ]
    }
   ],
   "source": [
    "import numpy as np\n",
    "\n",
    "# Cargar clasificación y calidad\n",
    "clasificacion = np.load(\"C:/Users/paula/OneDrive/Escritorio/Portables/eeg_wavelet/wICASSO/sub-SAN053_ses-V0_task-CE_desc-wavelet_eeg_wICAsso_raw_ICAdata_ICAlabel.npz.npy\",\n",
    "                        allow_pickle=True).item()\n",
    "calidad_fuentes = np.load(\"C:/Users/paula/OneDrive/Escritorio/Portables/eeg_wavelet/wICASSO/sub-SAN053_ses-V0_task-CE_desc-wavelet_eeg_wICAsso_raw_ICAdata.npz\")['quality']  # Ajusta la clave si es diferente\n",
    "\n",
    "\n",
    "\n",
    "for clase, indices in clasificacion.items():\n",
    "    if indices:\n",
    "        valores = calidad_fuentes[indices]\n",
    "        print(f\"{clase} ({len(indices)} fuentes):\")\n",
    "        print(f\"  Calidad media: {np.mean(valores):.3f}\")\n",
    "        print(f\"  Calidad mínima: {np.min(valores):.3f}\")\n",
    "        print(f\"  Calidad máxima: {np.max(valores):.3f}\")\n",
    "        print(f\"  Valores individuales: {valores}\")\n",
    "    else:\n",
    "        print(f\"{clase}: sin fuentes clasificadas\")"
   ]
  },
  {
   "cell_type": "code",
   "execution_count": 9,
   "id": "083c6552",
   "metadata": {},
   "outputs": [
    {
     "name": "stdout",
     "output_type": "stream",
     "text": [
      "Archivo guardado en:\n",
      "c:\\Users\\paula\\OneDrive - Universidad de Antioquia\\UdeA\\NeuroCo\\MNE_ICLabel\\resultados_calidad_fuentes.csv\n"
     ]
    }
   ],
   "source": [
    "import pandas as pd\n",
    "import os\n",
    "\n",
    "filas = []\n",
    "\n",
    "for clase, indices in clasificacion.items():\n",
    "    if indices:\n",
    "        valores = calidad_fuentes[indices]\n",
    "        filas.append({\n",
    "            \"Clase\": clase,\n",
    "            \"Num_fuentes\": len(indices),\n",
    "            \"Calidad_media\": np.mean(valores),\n",
    "            \"Calidad_minima\": np.min(valores),\n",
    "            \"Calidad_maxima\": np.max(valores),\n",
    "            \"Valores_individuales\": list(valores)\n",
    "        })\n",
    "    else:\n",
    "        filas.append({\n",
    "            \"Clase\": clase,\n",
    "            \"Num_fuentes\": 0,\n",
    "            \"Calidad_media\": None,\n",
    "            \"Calidad_minima\": None,\n",
    "            \"Calidad_maxima\": None,\n",
    "            \"Valores_individuales\": []\n",
    "        })\n",
    "\n",
    "df = pd.DataFrame(filas)\n",
    "df.to_csv(\"calidad_fuentes.csv\", index=False)\n",
    "\n",
    "print(\"Archivo guardado en:\")\n",
    "print(os.path.abspath(\"resultados_calidad_fuentes.csv\"))\n"
   ]
  }
 ],
 "metadata": {
  "kernelspec": {
   "display_name": ".venv",
   "language": "python",
   "name": "python3"
  },
  "language_info": {
   "codemirror_mode": {
    "name": "ipython",
    "version": 3
   },
   "file_extension": ".py",
   "mimetype": "text/x-python",
   "name": "python",
   "nbconvert_exporter": "python",
   "pygments_lexer": "ipython3",
   "version": "3.13.2"
  }
 },
 "nbformat": 4,
 "nbformat_minor": 5
}
